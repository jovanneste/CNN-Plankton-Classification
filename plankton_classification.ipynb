{
  "cells": [
    {
      "cell_type": "markdown",
      "metadata": {
        "id": "view-in-github",
        "colab_type": "text"
      },
      "source": [
        "<a href=\"https://colab.research.google.com/github/jovanneste/planktonClassification/blob/main/plankton_classification.ipynb\" target=\"_parent\"><img src=\"https://colab.research.google.com/assets/colab-badge.svg\" alt=\"Open In Colab\"/></a>"
      ]
    },
    {
      "cell_type": "markdown",
      "metadata": {
        "id": "KWg-9bBqh_Yd"
      },
      "source": [
        "# 2460800V - Deep learning coursework"
      ]
    },
    {
      "cell_type": "markdown",
      "metadata": {
        "id": "GGBnpu-qrrBQ"
      },
      "source": [
        "# 1. Dataset and problem \n",
        "\n",
        "---\n",
        "\n",
        "> We import all required libraries and our dataset.\n",
        "\n",
        "> At this stage, I manaully look though some of the data to look for class inbalances."
      ]
    },
    {
      "cell_type": "code",
      "execution_count": null,
      "metadata": {
        "colab": {
          "base_uri": "https://localhost:8080/"
        },
        "id": "TjoAk_vxrtG5",
        "outputId": "69802722-f435-46cc-a277-aca1a825c3f4"
      },
      "outputs": [
        {
          "output_type": "stream",
          "name": "stdout",
          "text": [
            "--2023-03-17 12:32:50--  https://www.dropbox.com/s/v2udcnt98miwwrq/plankton.pt?dl=1\n",
            "Resolving www.dropbox.com (www.dropbox.com)... 162.125.65.18, 2620:100:6017:18::a27d:212\n",
            "Connecting to www.dropbox.com (www.dropbox.com)|162.125.65.18|:443... connected.\n",
            "HTTP request sent, awaiting response... 302 Found\n",
            "Location: /s/dl/v2udcnt98miwwrq/plankton.pt [following]\n",
            "--2023-03-17 12:32:51--  https://www.dropbox.com/s/dl/v2udcnt98miwwrq/plankton.pt\n",
            "Reusing existing connection to www.dropbox.com:443.\n",
            "HTTP request sent, awaiting response... 302 Found\n",
            "Location: https://ucbbe5dc0a0e5c2876231d8774f7.dl.dropboxusercontent.com/cd/0/get/B4Y1yetMEv8PRULJIcZuI2wKuNCmg9wVqFi_f__NHREtCtysQpkNoyWLGDbCwa9ky9ApeDx3NVeiQ0ggBHvFR7yvKKKG6A23TMChi3XHKVuZ061XleP_fJ3VZ7xIz5NIdNa_A0IF8ZY4NkUzn0KFc_ocZtw8GFI4RpyTvHZanQ7qbw/file?dl=1# [following]\n",
            "--2023-03-17 12:32:52--  https://ucbbe5dc0a0e5c2876231d8774f7.dl.dropboxusercontent.com/cd/0/get/B4Y1yetMEv8PRULJIcZuI2wKuNCmg9wVqFi_f__NHREtCtysQpkNoyWLGDbCwa9ky9ApeDx3NVeiQ0ggBHvFR7yvKKKG6A23TMChi3XHKVuZ061XleP_fJ3VZ7xIz5NIdNa_A0IF8ZY4NkUzn0KFc_ocZtw8GFI4RpyTvHZanQ7qbw/file?dl=1\n",
            "Resolving ucbbe5dc0a0e5c2876231d8774f7.dl.dropboxusercontent.com (ucbbe5dc0a0e5c2876231d8774f7.dl.dropboxusercontent.com)... 162.125.65.15, 2620:100:6017:15::a27d:20f\n",
            "Connecting to ucbbe5dc0a0e5c2876231d8774f7.dl.dropboxusercontent.com (ucbbe5dc0a0e5c2876231d8774f7.dl.dropboxusercontent.com)|162.125.65.15|:443... connected.\n",
            "HTTP request sent, awaiting response... 200 OK\n",
            "Length: 194047719 (185M) [application/binary]\n",
            "Saving to: ‘plankton.pt’\n",
            "\n",
            "plankton.pt         100%[===================>] 185.06M  11.8MB/s    in 14s     \n",
            "\n",
            "2023-03-17 12:33:06 (13.5 MB/s) - ‘plankton.pt’ saved [194047719/194047719]\n",
            "\n"
          ]
        }
      ],
      "source": [
        "import os\n",
        "import numpy as np\n",
        "import pandas as pd\n",
        "from matplotlib import pyplot as plt\n",
        "import random \n",
        "\n",
        "import torch\n",
        "import torch.nn as nn\n",
        "import torch.nn.functional as F\n",
        "import collections\n",
        "\n",
        "from torchvision import transforms\n",
        "\n",
        "import torch.optim as optim\n",
        "from torch.nn import Linear, ReLU, CrossEntropyLoss, Sequential, Conv2d, MaxPool2d, Module, Softmax, BatchNorm2d, Dropout\n",
        "from torch.optim import Adam, SGD\n",
        "\n",
        "from torch.utils.data import WeightedRandomSampler, TensorDataset\n",
        "\n",
        "from sklearn import metrics\n",
        "\n",
        "!wget --no-check-certificate \"https://www.dropbox.com/s/v2udcnt98miwwrq/plankton.pt?dl=1\" -O plankton.pt"
      ]
    },
    {
      "cell_type": "code",
      "source": [
        "flag = False"
      ],
      "metadata": {
        "id": "DMLXXbWOWp4T"
      },
      "execution_count": null,
      "outputs": []
    },
    {
      "cell_type": "markdown",
      "metadata": {
        "id": "j5CnfzRJr1tx"
      },
      "source": [
        "# 2. Load data \n",
        "\n",
        "---\n",
        "\n",
        "1. Data augmentation\n",
        "\n",
        "> As our dataset is quite small, I augement some percentage of our data at random. We use transforms to accomplish this, specifically horizontal and vertical flips, rotations, colour transforms and crops. Initailly, I augment 50% of the data.\n",
        "\n",
        "\n",
        "2. Data splitting \n",
        "\n",
        "> We split our augmented data using a 70/10/20 split for training, validation and testing data respectively. We will use both a validation set and cross validation for parameter tuning.\n",
        "\n",
        "> getSplit function \n",
        "\n",
        "> > We create a helper function to see the distribution of the data per set. This will also allow us to find which classes are worst represented. As a sanity check we make sure all three of our classes have rougly the same distibutions."
      ]
    },
    {
      "cell_type": "code",
      "execution_count": null,
      "metadata": {
        "id": "KkHnM0QCr2Bh"
      },
      "outputs": [],
      "source": [
        "class DataLoader():\n",
        "  def __init__(self,data):\n",
        "    self.data = data\n",
        "    self.images = data['images']\n",
        "    self.labels = data['labels']\n",
        "    self.shape = self.images.shape\n",
        "\n",
        "  def transform(self, img):\n",
        "    hue = random.uniform(0,0.5)\n",
        "    contrast = random.uniform(0.1,0.8)\n",
        "    degrees = random.randint(5,50)\n",
        "    possible_transforms = [transforms.RandomHorizontalFlip(p=1), transforms.RandomVerticalFlip(p=1), transforms.ColorJitter(brightness=(0.5,0.9), \n",
        "                              contrast=contrast, saturation=0, hue=hue), transforms.RandomRotation(degrees=degrees), transforms.RandomCrop(100, padding=10)]\n",
        "\n",
        "    ts = random.sample(possible_transforms, random.randint(1,len(possible_transforms)))\n",
        "\n",
        "    ts.insert(0, transforms.ToPILImage())\n",
        "    ts.append(transforms.PILToTensor())\n",
        "    ts = transforms.Compose(ts)\n",
        "   \n",
        "    return ts(img)\n",
        "\n",
        "  def augment(self):\n",
        "    for i in range(0, len(self.labels)):\n",
        "      if random.uniform(0,1)<0.8: \n",
        "        transformed_img = torch.reshape(self.transform(self.images[i]), [1,3,100,100])\n",
        "        self.images = torch.cat((self.images, transformed_img))\n",
        "        ls = [int(l) for l in self.labels]\n",
        "        ls.append(self.labels[i])\n",
        "        self.labels = torch.Tensor(ls)\n",
        "    \n",
        "\n",
        "  def split(self):\n",
        "    data_length = len(self.labels)\n",
        "    data_indices = [i for i in range(data_length)]\n",
        "\n",
        "    train_length_ids = random.sample(data_indices, int(data_length*0.0))\n",
        "    [data_indices.remove(x) for x in train_length_ids]\n",
        "\n",
        "    val_length_ids = random.sample(data_indices, int(data_length*0.1))\n",
        "    [data_indices.remove(x) for x in val_length_ids]\n",
        "\n",
        "    TrainData = [list(map(self.images.__getitem__, train_length_ids)), list(map(self.labels.__getitem__, train_length_ids))]\n",
        "    ValData = [list(map(self.images.__getitem__, val_length_ids)), list(map(self.labels.__getitem__, val_length_ids))]\n",
        "    TestData = [list(map(self.images.__getitem__, data_indices)), list(map(self.labels.__getitem__, data_indices))]\n",
        "  \n",
        "    print(\"Length of training split: \", len(TrainData[0]))\n",
        "    print(\"Length of testing split: \", len(TestData[0]))\n",
        "    print(\"Length of validation split: \", len(ValData[0]))\n",
        "\n",
        "    return TrainData, TestData, ValData\n",
        "                    \n",
        "\n",
        "def getSplit(data):\n",
        "  _, labels = data\n",
        "  j=0\n",
        "  uniques, counts = np.unique(labels, return_counts=True)\n",
        "  for i in list(zip(counts * 100 / len(labels))):\n",
        "    print(\"Class \" + str(j) + \": \" + str(round(float(i[0]),2)) + \"%\")\n",
        "    j+=1"
      ]
    },
    {
      "cell_type": "code",
      "execution_count": null,
      "metadata": {
        "colab": {
          "base_uri": "https://localhost:8080/"
        },
        "id": "xv-aNJx9sU6b",
        "outputId": "153fbca0-7f74-422f-d83c-c475b8425fc7"
      },
      "outputs": [
        {
          "output_type": "stream",
          "name": "stdout",
          "text": [
            "Length of training split:  0\n",
            "Length of testing split:  1456\n",
            "Length of validation split:  161\n",
            "Class 0: 7.9%\n",
            "Class 1: 3.64%\n",
            "Class 2: 15.73%\n",
            "Class 3: 6.8%\n",
            "Class 4: 4.26%\n",
            "Class 5: 4.12%\n",
            "Class 6: 5.43%\n",
            "Class 7: 14.35%\n",
            "Class 8: 14.63%\n",
            "Class 9: 5.08%\n",
            "Class 10: 9.89%\n",
            "Class 11: 8.17%\n"
          ]
        }
      ],
      "source": [
        "planktondata = torch.load('plankton.pt')\n",
        "Data = DataLoader(planktondata)\n",
        "if flag:\n",
        "  Data.augment()\n",
        "TrainData, TestData, ValData = Data.split()\n",
        "getSplit(TestData)"
      ]
    },
    {
      "cell_type": "markdown",
      "metadata": {
        "id": "y55l3oJOsWvc"
      },
      "source": [
        "# 3. Network\n",
        "\n",
        "---\n",
        "\n",
        "### Net1 \n",
        "\n",
        "> Initially I used the architecture shown as Net1. This simple network has 2 convolutional layers and only one pooling layer. \n",
        "\n",
        "\n",
        "### Net2\n",
        "\n",
        "> I improved Net1 and created Net2; a deeper network with batch normalisation and dropout. Using regularisation should help stop the model overfitting.\n",
        "\n",
        "### Loss function \n",
        "\n",
        "> I decide to use Huber loss as opposed to MSE loss as it is less sensitive to outliers and unbalanced data, while still being differentiable and smooth.\n",
        "\n",
        "### Optimiser \n",
        "\n",
        "> I decide to use Adam as mu optimiser as it tends to converge well and is robust to noisy or skewed data.\n"
      ]
    },
    {
      "cell_type": "code",
      "execution_count": null,
      "metadata": {
        "id": "KiGgn4lWsYHS"
      },
      "outputs": [],
      "source": [
        "class Net1(nn.Module):\n",
        "    def __init__(self):\n",
        "      super(Net1, self).__init__()\n",
        "      self.conv1 = nn.Conv2d(3, 32, 3, padding=1)\n",
        "      self.conv2 = nn.Conv2d(32, 64, 3, padding=1)\n",
        "      self.pool = nn.MaxPool2d(2, 2)\n",
        "      self.fc1 = nn.Linear(64 * 25 * 25, 128)\n",
        "      self.fc2 = nn.Linear(128, 12)\n",
        "\n",
        "    def forward(self, x):\n",
        "      x = self.pool(nn.functional.relu(self.conv1(x)))\n",
        "      x = self.pool(nn.functional.relu(self.conv2(x)))\n",
        "      x = x.view(-1, 64 * 25 * 25)\n",
        "      x = nn.functional.relu(self.fc1(x))\n",
        "      x = self.fc2(x)\n",
        "      return x\n",
        "\n",
        "\n",
        "\n",
        "class Net2(nn.Module):\n",
        "    def __init__(self):\n",
        "        super(Net2, self).__init__()\n",
        "        \n",
        "        self.conv1 = nn.Conv2d(3, 32, kernel_size=3, stride=1, padding=1)\n",
        "        self.bn1 = nn.BatchNorm2d(32)\n",
        "        self.relu1 = nn.ReLU()\n",
        "        self.maxpool1 = nn.MaxPool2d(kernel_size=2, stride=2)\n",
        "        \n",
        "        self.conv2 = nn.Conv2d(32, 64, kernel_size=3, stride=1, padding=1)\n",
        "        self.bn2 = nn.BatchNorm2d(64)\n",
        "        self.relu2 = nn.ReLU()\n",
        "        self.maxpool2 = nn.MaxPool2d(kernel_size=2, stride=2)\n",
        "        \n",
        "        self.conv3 = nn.Conv2d(64, 128, kernel_size=3, stride=1, padding=1)\n",
        "        self.bn3 = nn.BatchNorm2d(128)\n",
        "        self.relu3 = nn.ReLU()\n",
        "        self.maxpool3 = nn.MaxPool2d(kernel_size=2, stride=2)\n",
        "        \n",
        "        self.fc1 = nn.Linear(128*12*12, 512)\n",
        "        self.relu4 = nn.ReLU()\n",
        "        self.dropout1 = nn.Dropout(p=0.5)\n",
        "        \n",
        "        self.fc2 = nn.Linear(512, 12)\n",
        "        \n",
        "    def forward(self, x):\n",
        "        x = self.conv1(x)\n",
        "        x = self.bn1(x)\n",
        "        x = self.relu1(x)\n",
        "        x = self.maxpool1(x)\n",
        "        \n",
        "        x = self.conv2(x)\n",
        "        x = self.bn2(x)\n",
        "        x = self.relu2(x)\n",
        "        x = self.maxpool2(x)\n",
        "        \n",
        "        x = self.conv3(x)\n",
        "        x = self.bn3(x)\n",
        "        x = self.relu3(x)\n",
        "        x = self.maxpool3(x)\n",
        "        \n",
        "        x = x.view(-1, 128*12*12)\n",
        "        x = self.fc1(x)\n",
        "        x = self.relu4(x)\n",
        "        x = self.dropout1(x)\n",
        "        \n",
        "        x = self.fc2(x)\n",
        "        return x\n",
        "\n",
        "        \n",
        "model = Net2()\n",
        "loss_fn = nn.HuberLoss()\n",
        "optimizer = optim.Adam(model.parameters(), lr=0.001)"
      ]
    },
    {
      "cell_type": "markdown",
      "metadata": {
        "id": "UeThO9NvsrEZ"
      },
      "source": [
        "# 3. Weighted dataloader \n",
        "\n",
        "---\n",
        "\n",
        "> Since our data is very unbalanced, I create weighted dataloader which assigns a weight to each sample in our dataset based on its class frequency. The weight assigned to each sample is inversely proportional to its frequency, such that rare classes have higher weights and are therefore sampled more frequently during training. This ensures our CNN sees a balanced representation of all classes during training.\n"
      ]
    },
    {
      "cell_type": "code",
      "execution_count": null,
      "metadata": {
        "id": "I1Y15RDMsr2M"
      },
      "outputs": [],
      "source": [
        "from torch.utils.data import DataLoader\n",
        "\n",
        "if flag:\n",
        "\n",
        "  def create_weighted_dataloader(data, batch_size):\n",
        "      images = torch.stack(data[0])\n",
        "      labels = torch.tensor(data[1])\n",
        "\n",
        "      class_count = torch.bincount(labels.long())\n",
        "      class_weights = 1.0 / class_count.float()\n",
        "\n",
        "      weights = [class_weights[int(label)] for label in labels]\n",
        "      weights = torch.tensor(weights)\n",
        "      sampler = WeightedRandomSampler(weights, len(weights))\n",
        "\n",
        "      dataset = TensorDataset(images, labels)\n",
        "      dataloader = DataLoader(dataset, batch_size=batch_size, sampler=sampler)\n",
        "\n",
        "      return dataloader\n",
        "\n",
        "\n",
        "  weighted_loader = create_weighted_dataloader(TrainData, batch_size=32)"
      ]
    },
    {
      "cell_type": "markdown",
      "metadata": {
        "id": "2qfG89LvszX4"
      },
      "source": [
        "# 4. Model training and testing functions\n",
        "\n",
        "---\n",
        "\n",
        "> To train our CNN, we create two training functions; one for our general data and one specifically for our weighted data loader.\n",
        "\n",
        "> To test our CNN, we create a function to predict the labels of all the images in our test set, we return all the predictions made alongside the accuracy."
      ]
    },
    {
      "cell_type": "code",
      "execution_count": null,
      "metadata": {
        "id": "q3h29dpbs0c8"
      },
      "outputs": [],
      "source": [
        "epoch_print_gap = 10\n",
        "\n",
        "# helper functions \n",
        "def labelToTensor(l):\n",
        "  label = [0 if i!=l else 1 for i in range(12)]\n",
        "  return torch.FloatTensor(label)\n",
        "\n",
        "def getImgandLabel(data, batch_size):\n",
        "  data_indices = [i for i in range(len(data[0]))]\n",
        "  ids = random.sample(data_indices, batch_size)\n",
        "  imgs, labels = [data[0][i] for i in ids], [data[1][i] for i in ids]\n",
        "  return imgs, labels\n",
        "\n",
        "\n",
        "def train_model(data, n_epochs, batch_size, verbose=True):\n",
        "    losses = []\n",
        "    for epoch in range(1, n_epochs + 1):\n",
        "        loss_train = 0.0\n",
        "        imgs, labels = getImgandLabel(data, batch_size)\n",
        "        for i in range(len(labels)):\n",
        "\n",
        "            img = torch.reshape(imgs[i], [1,3,100,100])\n",
        "            label = labelToTensor(int(labels[i]))\n",
        "            output = model(img)\n",
        "            loss = loss_fn(output, label)\n",
        "\n",
        "            optimizer.zero_grad()\n",
        "            loss.backward()\n",
        "            optimizer.step()\n",
        "            \n",
        "            loss_train += loss.item()\n",
        "            \n",
        "        if (epoch == 1 and verbose) or (epoch % epoch_print_gap == 0 and verbose):\n",
        "            print('Epoch {}, Training loss {}'.format(epoch, float(loss_train)))\n",
        "            p, a, accuracy = test_model(TestData)\n",
        "\n",
        "    return losses\n",
        "\n",
        "\n",
        "def train_weighted_model(n_epochs):\n",
        "  losses = []\n",
        "  for epoch in range(n_epochs):\n",
        "    for batch in weighted_loader:\n",
        "        imgs, labels = batch\n",
        "        loss_train = 0.0\n",
        "        for i in range(len(labels)):\n",
        "          img = torch.reshape(imgs[i], [1,3,100,100])\n",
        "          label = labelToTensor(int(labels[i]))\n",
        "          output = model(img)\n",
        "          loss = loss_fn(output, label)\n",
        "\n",
        "          optimizer.zero_grad()\n",
        "          loss.backward()\n",
        "          optimizer.step()\n",
        "              \n",
        "          loss_train += loss.item()\n",
        "\n",
        "\n",
        "    if (epoch == 1) or (epoch % epoch_print_gap == 0):\n",
        "      print('Epoch {}, Training loss {}'.format(epoch, float(loss_train)))\n",
        "      p, a, accuracy = test_model(TestData)\n",
        "      losses.append(loss_train)\n",
        "\n",
        "  return losses\n",
        "\n",
        "\n",
        "def test_model(loader):\n",
        "  predicted = []\n",
        "  actual = []\n",
        "  test_loss, correct = 0,0\n",
        "  model.eval()\n",
        "  with torch.no_grad():\n",
        "    for i in range(len(loader[0])):\n",
        "      data, target = loader[0][i], labelToTensor(int(loader[1][i]))\n",
        "\n",
        "      img = torch.reshape(data, [1,3,100,100])\n",
        "      label = int(np.argmax(target))\n",
        "\n",
        "      output = model(img)\n",
        "\n",
        "      test_loss += loss_fn(output, target).item()  \n",
        "      pred = int(output.argmax())\n",
        "      predicted.append(pred)\n",
        "      actual.append(label)\n",
        "      \n",
        "      if pred==label:\n",
        "        correct+=1\n",
        "\n",
        "  accuracy = round((correct*100)/len(loader[0]),2)\n",
        "\n",
        "  print(\"Accuracy: \" + str(accuracy)+\"%\")\n",
        "\n",
        "  return predicted, actual, accuracy\n"
      ]
    },
    {
      "cell_type": "markdown",
      "metadata": {
        "id": "CNn74wcHtu6v"
      },
      "source": [
        "# 4. Optimisation\n",
        "\n",
        "---\n",
        "\n",
        "### Use of validation set \n",
        "\n",
        "> I make use of the validation set to tune the batch number. We find that using a batch size of 32 gives the best results. \n",
        "\n",
        "### Cross validation on training set\n",
        "\n",
        "> I make use of k-fold validation to tune our learning rate. Initally I used a grid search for a wider search however, this took too long to converge. Instead, we use each fold to test a value and find a learning rate of 0.001 gives the best results. "
      ]
    },
    {
      "cell_type": "code",
      "execution_count": null,
      "metadata": {
        "id": "KSlFlLhquJHL"
      },
      "outputs": [],
      "source": [
        "if flag:\n",
        "  def tuneModel(n_epochs):\n",
        "    for batch in [8, 16, 32, 64, 128]:\n",
        "      model = Net2()\n",
        "      loss_fn = nn.MSELoss()\n",
        "      optimizer = optim.Adam(model.parameters(), lr=0.001)\n",
        "      losses = train_model(ValData, n_epochs, batch, verbose=False)\n",
        "      predicted, actual, accuracy = test_model(ValData)\n",
        "      print(\"Batch size: \", batch)\n",
        "\n",
        "\n",
        "  tuneModel(10)"
      ]
    },
    {
      "cell_type": "code",
      "execution_count": null,
      "metadata": {
        "id": "poU6AySfuNuo"
      },
      "outputs": [],
      "source": [
        "# cross validation on training set \n",
        "if flag:\n",
        "  from sklearn.model_selection import KFold\n",
        "\n",
        "  n_folds = 4\n",
        "\n",
        "  def get_k_folds(k):\n",
        "    images = TrainData[0]\n",
        "    labels = TrainData[1]\n",
        "\n",
        "    # shuffle \n",
        "    data = list(zip(images, labels))\n",
        "    random.shuffle(data)\n",
        "    images, labels = zip(*data)\n",
        "\n",
        "    kf = KFold(n_splits=k)\n",
        "    kf.get_n_splits(images)\n",
        "\n",
        "    image_folds_train, labels_folds_train = [], []\n",
        "    image_folds_test, labels_folds_test = [], []\n",
        "\n",
        "    for i, (train_index, test_index) in enumerate(kf.split(images)):\n",
        "      image_folds_train.append(list(map(images.__getitem__, train_index)))\n",
        "      image_folds_test.append(list(map(images.__getitem__, test_index)))\n",
        "      labels_folds_train.append(list(map(labels.__getitem__, train_index)))\n",
        "      labels_folds_test.append(list(map(labels.__getitem__, test_index)))\n",
        "\n",
        "    return image_folds_train, labels_folds_train, image_folds_test, labels_folds_test\n",
        "\n",
        "\n",
        "  image_folds_train, labels_folds_train, image_folds_test, labels_folds_test = get_k_folds(n_folds)\n",
        "\n",
        "  assert len(image_folds_train)==n_folds, \"Wrong number of folds created\"\n",
        "\n",
        "\n",
        "\n",
        "  learning_rates = [0.1, 0.01, 0.001, 0.0001]\n",
        "\n",
        "  for i in range(n_folds):\n",
        "    print(\"Fold \", i)\n",
        "    model = Net2()\n",
        "    loss_fn = nn.MSELoss()\n",
        "    optimizer = optim.Adam(model.parameters(), lr=learning_rates[i])\n",
        "    print(\"Training\")\n",
        "    losses = train_model([image_folds_train[i], labels_folds_train[i]], 20, 32, verbose=False)\n",
        "\n",
        "    print(\"Testing\")\n",
        "    predicted, actual, accuracy = test_model([image_folds_test[i], labels_folds_test[i]])\n",
        "    print(\"With learning rate=\", learning_rates[i])\n"
      ]
    },
    {
      "cell_type": "markdown",
      "metadata": {
        "id": "2lVtmfNZznC5"
      },
      "source": [
        "# 5. Evaluation\n",
        "\n",
        "---\n",
        "\n",
        "### Model results\n",
        "\n",
        "> My first model, Net1, using Adam and Huber loss with the above parameters gave around 40% accuracy on the test data after 50 epochs. Our improved model, Net2, with identical parameters has\n",
        "\n",
        "### Failure cases\n",
        "\n",
        "> I looked at some failure cases and found some images in the dataset were entirely black. I plot a confusion matrix to show  "
      ]
    },
    {
      "cell_type": "code",
      "execution_count": null,
      "metadata": {
        "id": "rFIJAjTVzum9"
      },
      "outputs": [],
      "source": [
        "if flag:  \n",
        "  model = Net2()\n",
        "  print(model)\n",
        "  loss_fn = nn.MSELoss()\n",
        "  optimizer = optim.Adam(model.parameters(), lr=0.001)\n",
        "  losses = train_weighted_model(50)\n",
        "  # save model after training to github\n",
        "  from google.colab import files\n",
        "  torch.save(model.state_dict(), 'model.pth')\n",
        "  files.download('model.pth')\n"
      ]
    },
    {
      "cell_type": "code",
      "source": [
        "# load pre-trained model from github\n",
        "!git clone https://github.com/jovanneste/deeplearning.git\n",
        "!cd deeplearning/model/\n",
        "!ls\n",
        "checkpoint = torch.load('model.pth', map_location=torch.device('cpu'))\n",
        "print(checkpoint.keys())\n",
        "# model = Net2()\n",
        "# model.load_state_dict(checkpoint)\n",
        "# model.eval()"
      ],
      "metadata": {
        "colab": {
          "base_uri": "https://localhost:8080/",
          "height": 416
        },
        "id": "CP-oZjwUfJdG",
        "outputId": "bda62d96-24d5-4ea1-ba13-c99fe2b167fd"
      },
      "execution_count": null,
      "outputs": [
        {
          "output_type": "stream",
          "name": "stdout",
          "text": [
            "fatal: destination path 'deeplearning' already exists and is not an empty directory.\n",
            "deeplearning  modelweigths.pt  planktonClassification  plankton.pt  sample_data\n"
          ]
        },
        {
          "output_type": "error",
          "ename": "FileNotFoundError",
          "evalue": "ignored",
          "traceback": [
            "\u001b[0;31m---------------------------------------------------------------------------\u001b[0m",
            "\u001b[0;31mFileNotFoundError\u001b[0m                         Traceback (most recent call last)",
            "\u001b[0;32m<ipython-input-29-17d994b0eb63>\u001b[0m in \u001b[0;36m<module>\u001b[0;34m\u001b[0m\n\u001b[1;32m      3\u001b[0m \u001b[0mget_ipython\u001b[0m\u001b[0;34m(\u001b[0m\u001b[0;34m)\u001b[0m\u001b[0;34m.\u001b[0m\u001b[0msystem\u001b[0m\u001b[0;34m(\u001b[0m\u001b[0;34m'cd deeplearning/model/'\u001b[0m\u001b[0;34m)\u001b[0m\u001b[0;34m\u001b[0m\u001b[0;34m\u001b[0m\u001b[0m\n\u001b[1;32m      4\u001b[0m \u001b[0mget_ipython\u001b[0m\u001b[0;34m(\u001b[0m\u001b[0;34m)\u001b[0m\u001b[0;34m.\u001b[0m\u001b[0msystem\u001b[0m\u001b[0;34m(\u001b[0m\u001b[0;34m'ls'\u001b[0m\u001b[0;34m)\u001b[0m\u001b[0;34m\u001b[0m\u001b[0;34m\u001b[0m\u001b[0m\n\u001b[0;32m----> 5\u001b[0;31m \u001b[0mcheckpoint\u001b[0m \u001b[0;34m=\u001b[0m \u001b[0mtorch\u001b[0m\u001b[0;34m.\u001b[0m\u001b[0mload\u001b[0m\u001b[0;34m(\u001b[0m\u001b[0;34m'model.pth'\u001b[0m\u001b[0;34m,\u001b[0m \u001b[0mmap_location\u001b[0m\u001b[0;34m=\u001b[0m\u001b[0mtorch\u001b[0m\u001b[0;34m.\u001b[0m\u001b[0mdevice\u001b[0m\u001b[0;34m(\u001b[0m\u001b[0;34m'cpu'\u001b[0m\u001b[0;34m)\u001b[0m\u001b[0;34m)\u001b[0m\u001b[0;34m\u001b[0m\u001b[0;34m\u001b[0m\u001b[0m\n\u001b[0m\u001b[1;32m      6\u001b[0m \u001b[0mprint\u001b[0m\u001b[0;34m(\u001b[0m\u001b[0mcheckpoint\u001b[0m\u001b[0;34m.\u001b[0m\u001b[0mkeys\u001b[0m\u001b[0;34m(\u001b[0m\u001b[0;34m)\u001b[0m\u001b[0;34m)\u001b[0m\u001b[0;34m\u001b[0m\u001b[0;34m\u001b[0m\u001b[0m\n\u001b[1;32m      7\u001b[0m \u001b[0;31m# model = Net2()\u001b[0m\u001b[0;34m\u001b[0m\u001b[0;34m\u001b[0m\u001b[0m\n",
            "\u001b[0;32m/usr/local/lib/python3.9/dist-packages/torch/serialization.py\u001b[0m in \u001b[0;36mload\u001b[0;34m(f, map_location, pickle_module, weights_only, **pickle_load_args)\u001b[0m\n\u001b[1;32m    769\u001b[0m         \u001b[0mpickle_load_args\u001b[0m\u001b[0;34m[\u001b[0m\u001b[0;34m'encoding'\u001b[0m\u001b[0;34m]\u001b[0m \u001b[0;34m=\u001b[0m \u001b[0;34m'utf-8'\u001b[0m\u001b[0;34m\u001b[0m\u001b[0;34m\u001b[0m\u001b[0m\n\u001b[1;32m    770\u001b[0m \u001b[0;34m\u001b[0m\u001b[0m\n\u001b[0;32m--> 771\u001b[0;31m     \u001b[0;32mwith\u001b[0m \u001b[0m_open_file_like\u001b[0m\u001b[0;34m(\u001b[0m\u001b[0mf\u001b[0m\u001b[0;34m,\u001b[0m \u001b[0;34m'rb'\u001b[0m\u001b[0;34m)\u001b[0m \u001b[0;32mas\u001b[0m \u001b[0mopened_file\u001b[0m\u001b[0;34m:\u001b[0m\u001b[0;34m\u001b[0m\u001b[0;34m\u001b[0m\u001b[0m\n\u001b[0m\u001b[1;32m    772\u001b[0m         \u001b[0;32mif\u001b[0m \u001b[0m_is_zipfile\u001b[0m\u001b[0;34m(\u001b[0m\u001b[0mopened_file\u001b[0m\u001b[0;34m)\u001b[0m\u001b[0;34m:\u001b[0m\u001b[0;34m\u001b[0m\u001b[0;34m\u001b[0m\u001b[0m\n\u001b[1;32m    773\u001b[0m             \u001b[0;31m# The zipfile reader is going to advance the current file position.\u001b[0m\u001b[0;34m\u001b[0m\u001b[0;34m\u001b[0m\u001b[0m\n",
            "\u001b[0;32m/usr/local/lib/python3.9/dist-packages/torch/serialization.py\u001b[0m in \u001b[0;36m_open_file_like\u001b[0;34m(name_or_buffer, mode)\u001b[0m\n\u001b[1;32m    268\u001b[0m \u001b[0;32mdef\u001b[0m \u001b[0m_open_file_like\u001b[0m\u001b[0;34m(\u001b[0m\u001b[0mname_or_buffer\u001b[0m\u001b[0;34m,\u001b[0m \u001b[0mmode\u001b[0m\u001b[0;34m)\u001b[0m\u001b[0;34m:\u001b[0m\u001b[0;34m\u001b[0m\u001b[0;34m\u001b[0m\u001b[0m\n\u001b[1;32m    269\u001b[0m     \u001b[0;32mif\u001b[0m \u001b[0m_is_path\u001b[0m\u001b[0;34m(\u001b[0m\u001b[0mname_or_buffer\u001b[0m\u001b[0;34m)\u001b[0m\u001b[0;34m:\u001b[0m\u001b[0;34m\u001b[0m\u001b[0;34m\u001b[0m\u001b[0m\n\u001b[0;32m--> 270\u001b[0;31m         \u001b[0;32mreturn\u001b[0m \u001b[0m_open_file\u001b[0m\u001b[0;34m(\u001b[0m\u001b[0mname_or_buffer\u001b[0m\u001b[0;34m,\u001b[0m \u001b[0mmode\u001b[0m\u001b[0;34m)\u001b[0m\u001b[0;34m\u001b[0m\u001b[0;34m\u001b[0m\u001b[0m\n\u001b[0m\u001b[1;32m    271\u001b[0m     \u001b[0;32melse\u001b[0m\u001b[0;34m:\u001b[0m\u001b[0;34m\u001b[0m\u001b[0;34m\u001b[0m\u001b[0m\n\u001b[1;32m    272\u001b[0m         \u001b[0;32mif\u001b[0m \u001b[0;34m'w'\u001b[0m \u001b[0;32min\u001b[0m \u001b[0mmode\u001b[0m\u001b[0;34m:\u001b[0m\u001b[0;34m\u001b[0m\u001b[0;34m\u001b[0m\u001b[0m\n",
            "\u001b[0;32m/usr/local/lib/python3.9/dist-packages/torch/serialization.py\u001b[0m in \u001b[0;36m__init__\u001b[0;34m(self, name, mode)\u001b[0m\n\u001b[1;32m    249\u001b[0m \u001b[0;32mclass\u001b[0m \u001b[0m_open_file\u001b[0m\u001b[0;34m(\u001b[0m\u001b[0m_opener\u001b[0m\u001b[0;34m)\u001b[0m\u001b[0;34m:\u001b[0m\u001b[0;34m\u001b[0m\u001b[0;34m\u001b[0m\u001b[0m\n\u001b[1;32m    250\u001b[0m     \u001b[0;32mdef\u001b[0m \u001b[0m__init__\u001b[0m\u001b[0;34m(\u001b[0m\u001b[0mself\u001b[0m\u001b[0;34m,\u001b[0m \u001b[0mname\u001b[0m\u001b[0;34m,\u001b[0m \u001b[0mmode\u001b[0m\u001b[0;34m)\u001b[0m\u001b[0;34m:\u001b[0m\u001b[0;34m\u001b[0m\u001b[0;34m\u001b[0m\u001b[0m\n\u001b[0;32m--> 251\u001b[0;31m         \u001b[0msuper\u001b[0m\u001b[0;34m(\u001b[0m\u001b[0m_open_file\u001b[0m\u001b[0;34m,\u001b[0m \u001b[0mself\u001b[0m\u001b[0;34m)\u001b[0m\u001b[0;34m.\u001b[0m\u001b[0m__init__\u001b[0m\u001b[0;34m(\u001b[0m\u001b[0mopen\u001b[0m\u001b[0;34m(\u001b[0m\u001b[0mname\u001b[0m\u001b[0;34m,\u001b[0m \u001b[0mmode\u001b[0m\u001b[0;34m)\u001b[0m\u001b[0;34m)\u001b[0m\u001b[0;34m\u001b[0m\u001b[0;34m\u001b[0m\u001b[0m\n\u001b[0m\u001b[1;32m    252\u001b[0m \u001b[0;34m\u001b[0m\u001b[0m\n\u001b[1;32m    253\u001b[0m     \u001b[0;32mdef\u001b[0m \u001b[0m__exit__\u001b[0m\u001b[0;34m(\u001b[0m\u001b[0mself\u001b[0m\u001b[0;34m,\u001b[0m \u001b[0;34m*\u001b[0m\u001b[0margs\u001b[0m\u001b[0;34m)\u001b[0m\u001b[0;34m:\u001b[0m\u001b[0;34m\u001b[0m\u001b[0;34m\u001b[0m\u001b[0m\n",
            "\u001b[0;31mFileNotFoundError\u001b[0m: [Errno 2] No such file or directory: 'model.pth'"
          ]
        }
      ]
    },
    {
      "cell_type": "code",
      "execution_count": null,
      "metadata": {
        "id": "nEFt6VXXzfuQ",
        "colab": {
          "base_uri": "https://localhost:8080/",
          "height": 612
        },
        "outputId": "6df3aca1-ed28-4ca6-a12f-a7e14fb380b6"
      },
      "outputs": [
        {
          "output_type": "error",
          "ename": "ValueError",
          "evalue": "ignored",
          "traceback": [
            "\u001b[0;31m---------------------------------------------------------------------------\u001b[0m",
            "\u001b[0;31mValueError\u001b[0m                                Traceback (most recent call last)",
            "\u001b[0;32m<ipython-input-21-16f33c5227ec>\u001b[0m in \u001b[0;36m<module>\u001b[0;34m\u001b[0m\n\u001b[1;32m      3\u001b[0m \u001b[0mcm_display\u001b[0m \u001b[0;34m=\u001b[0m \u001b[0mmetrics\u001b[0m\u001b[0;34m.\u001b[0m\u001b[0mConfusionMatrixDisplay\u001b[0m\u001b[0;34m(\u001b[0m\u001b[0mconfusion_matrix\u001b[0m \u001b[0;34m=\u001b[0m \u001b[0mconfusion_matrix\u001b[0m\u001b[0;34m,\u001b[0m \u001b[0mdisplay_labels\u001b[0m \u001b[0;34m=\u001b[0m \u001b[0;34m[\u001b[0m\u001b[0;32mFalse\u001b[0m\u001b[0;34m,\u001b[0m \u001b[0;32mTrue\u001b[0m\u001b[0;34m]\u001b[0m\u001b[0;34m)\u001b[0m\u001b[0;34m\u001b[0m\u001b[0;34m\u001b[0m\u001b[0m\n\u001b[1;32m      4\u001b[0m \u001b[0;34m\u001b[0m\u001b[0m\n\u001b[0;32m----> 5\u001b[0;31m \u001b[0mcm_display\u001b[0m\u001b[0;34m.\u001b[0m\u001b[0mplot\u001b[0m\u001b[0;34m(\u001b[0m\u001b[0;34m)\u001b[0m\u001b[0;34m\u001b[0m\u001b[0;34m\u001b[0m\u001b[0m\n\u001b[0m\u001b[1;32m      6\u001b[0m \u001b[0mplt\u001b[0m\u001b[0;34m.\u001b[0m\u001b[0mshow\u001b[0m\u001b[0;34m(\u001b[0m\u001b[0;34m)\u001b[0m\u001b[0;34m\u001b[0m\u001b[0;34m\u001b[0m\u001b[0m\n",
            "\u001b[0;32m/usr/local/lib/python3.9/dist-packages/sklearn/metrics/_plot/confusion_matrix.py\u001b[0m in \u001b[0;36mplot\u001b[0;34m(self, include_values, cmap, xticks_rotation, values_format, ax, colorbar, im_kw, text_kw)\u001b[0m\n\u001b[1;32m    179\u001b[0m         \u001b[0;32mif\u001b[0m \u001b[0mcolorbar\u001b[0m\u001b[0;34m:\u001b[0m\u001b[0;34m\u001b[0m\u001b[0;34m\u001b[0m\u001b[0m\n\u001b[1;32m    180\u001b[0m             \u001b[0mfig\u001b[0m\u001b[0;34m.\u001b[0m\u001b[0mcolorbar\u001b[0m\u001b[0;34m(\u001b[0m\u001b[0mself\u001b[0m\u001b[0;34m.\u001b[0m\u001b[0mim_\u001b[0m\u001b[0;34m,\u001b[0m \u001b[0max\u001b[0m\u001b[0;34m=\u001b[0m\u001b[0max\u001b[0m\u001b[0;34m)\u001b[0m\u001b[0;34m\u001b[0m\u001b[0;34m\u001b[0m\u001b[0m\n\u001b[0;32m--> 181\u001b[0;31m         ax.set(\n\u001b[0m\u001b[1;32m    182\u001b[0m             \u001b[0mxticks\u001b[0m\u001b[0;34m=\u001b[0m\u001b[0mnp\u001b[0m\u001b[0;34m.\u001b[0m\u001b[0marange\u001b[0m\u001b[0;34m(\u001b[0m\u001b[0mn_classes\u001b[0m\u001b[0;34m)\u001b[0m\u001b[0;34m,\u001b[0m\u001b[0;34m\u001b[0m\u001b[0;34m\u001b[0m\u001b[0m\n\u001b[1;32m    183\u001b[0m             \u001b[0myticks\u001b[0m\u001b[0;34m=\u001b[0m\u001b[0mnp\u001b[0m\u001b[0;34m.\u001b[0m\u001b[0marange\u001b[0m\u001b[0;34m(\u001b[0m\u001b[0mn_classes\u001b[0m\u001b[0;34m)\u001b[0m\u001b[0;34m,\u001b[0m\u001b[0;34m\u001b[0m\u001b[0;34m\u001b[0m\u001b[0m\n",
            "\u001b[0;32m/usr/local/lib/python3.9/dist-packages/matplotlib/artist.py\u001b[0m in \u001b[0;36m<lambda>\u001b[0;34m(self, **kwargs)\u001b[0m\n\u001b[1;32m    145\u001b[0m             \u001b[0;32mreturn\u001b[0m\u001b[0;34m\u001b[0m\u001b[0;34m\u001b[0m\u001b[0m\n\u001b[1;32m    146\u001b[0m \u001b[0;34m\u001b[0m\u001b[0m\n\u001b[0;32m--> 147\u001b[0;31m         \u001b[0mcls\u001b[0m\u001b[0;34m.\u001b[0m\u001b[0mset\u001b[0m \u001b[0;34m=\u001b[0m \u001b[0;32mlambda\u001b[0m \u001b[0mself\u001b[0m\u001b[0;34m,\u001b[0m \u001b[0;34m**\u001b[0m\u001b[0mkwargs\u001b[0m\u001b[0;34m:\u001b[0m \u001b[0mArtist\u001b[0m\u001b[0;34m.\u001b[0m\u001b[0mset\u001b[0m\u001b[0;34m(\u001b[0m\u001b[0mself\u001b[0m\u001b[0;34m,\u001b[0m \u001b[0;34m**\u001b[0m\u001b[0mkwargs\u001b[0m\u001b[0;34m)\u001b[0m\u001b[0;34m\u001b[0m\u001b[0;34m\u001b[0m\u001b[0m\n\u001b[0m\u001b[1;32m    148\u001b[0m         \u001b[0mcls\u001b[0m\u001b[0;34m.\u001b[0m\u001b[0mset\u001b[0m\u001b[0;34m.\u001b[0m\u001b[0m__name__\u001b[0m \u001b[0;34m=\u001b[0m \u001b[0;34m\"set\"\u001b[0m\u001b[0;34m\u001b[0m\u001b[0;34m\u001b[0m\u001b[0m\n\u001b[1;32m    149\u001b[0m         \u001b[0mcls\u001b[0m\u001b[0;34m.\u001b[0m\u001b[0mset\u001b[0m\u001b[0;34m.\u001b[0m\u001b[0m__qualname__\u001b[0m \u001b[0;34m=\u001b[0m \u001b[0;34mf\"{cls.__qualname__}.set\"\u001b[0m\u001b[0;34m\u001b[0m\u001b[0;34m\u001b[0m\u001b[0m\n",
            "\u001b[0;32m/usr/local/lib/python3.9/dist-packages/matplotlib/artist.py\u001b[0m in \u001b[0;36mset\u001b[0;34m(self, **kwargs)\u001b[0m\n\u001b[1;32m   1229\u001b[0m         \u001b[0;31m# Artist._update_set_signature_and_docstring() at the end of the\u001b[0m\u001b[0;34m\u001b[0m\u001b[0;34m\u001b[0m\u001b[0m\n\u001b[1;32m   1230\u001b[0m         \u001b[0;31m# module.\u001b[0m\u001b[0;34m\u001b[0m\u001b[0;34m\u001b[0m\u001b[0m\n\u001b[0;32m-> 1231\u001b[0;31m         \u001b[0;32mreturn\u001b[0m \u001b[0mself\u001b[0m\u001b[0;34m.\u001b[0m\u001b[0m_internal_update\u001b[0m\u001b[0;34m(\u001b[0m\u001b[0mcbook\u001b[0m\u001b[0;34m.\u001b[0m\u001b[0mnormalize_kwargs\u001b[0m\u001b[0;34m(\u001b[0m\u001b[0mkwargs\u001b[0m\u001b[0;34m,\u001b[0m \u001b[0mself\u001b[0m\u001b[0;34m)\u001b[0m\u001b[0;34m)\u001b[0m\u001b[0;34m\u001b[0m\u001b[0;34m\u001b[0m\u001b[0m\n\u001b[0m\u001b[1;32m   1232\u001b[0m \u001b[0;34m\u001b[0m\u001b[0m\n\u001b[1;32m   1233\u001b[0m     \u001b[0;34m@\u001b[0m\u001b[0mcontextlib\u001b[0m\u001b[0;34m.\u001b[0m\u001b[0mcontextmanager\u001b[0m\u001b[0;34m\u001b[0m\u001b[0;34m\u001b[0m\u001b[0m\n",
            "\u001b[0;32m/usr/local/lib/python3.9/dist-packages/matplotlib/artist.py\u001b[0m in \u001b[0;36m_internal_update\u001b[0;34m(self, kwargs)\u001b[0m\n\u001b[1;32m   1221\u001b[0m         \u001b[0mThe\u001b[0m \u001b[0mlack\u001b[0m \u001b[0mof\u001b[0m \u001b[0mprenormalization\u001b[0m \u001b[0;32mis\u001b[0m \u001b[0mto\u001b[0m \u001b[0mmaintain\u001b[0m \u001b[0mbackcompatibility\u001b[0m\u001b[0;34m.\u001b[0m\u001b[0;34m\u001b[0m\u001b[0;34m\u001b[0m\u001b[0m\n\u001b[1;32m   1222\u001b[0m         \"\"\"\n\u001b[0;32m-> 1223\u001b[0;31m         return self._update_props(\n\u001b[0m\u001b[1;32m   1224\u001b[0m             \u001b[0mkwargs\u001b[0m\u001b[0;34m,\u001b[0m \u001b[0;34m\"{cls.__name__}.set() got an unexpected keyword argument \"\u001b[0m\u001b[0;34m\u001b[0m\u001b[0;34m\u001b[0m\u001b[0m\n\u001b[1;32m   1225\u001b[0m             \"{prop_name!r}\")\n",
            "\u001b[0;32m/usr/local/lib/python3.9/dist-packages/matplotlib/artist.py\u001b[0m in \u001b[0;36m_update_props\u001b[0;34m(self, props, errfmt)\u001b[0m\n\u001b[1;32m   1197\u001b[0m                         raise AttributeError(\n\u001b[1;32m   1198\u001b[0m                             errfmt.format(cls=type(self), prop_name=k))\n\u001b[0;32m-> 1199\u001b[0;31m                     \u001b[0mret\u001b[0m\u001b[0;34m.\u001b[0m\u001b[0mappend\u001b[0m\u001b[0;34m(\u001b[0m\u001b[0mfunc\u001b[0m\u001b[0;34m(\u001b[0m\u001b[0mv\u001b[0m\u001b[0;34m)\u001b[0m\u001b[0;34m)\u001b[0m\u001b[0;34m\u001b[0m\u001b[0;34m\u001b[0m\u001b[0m\n\u001b[0m\u001b[1;32m   1200\u001b[0m         \u001b[0;32mif\u001b[0m \u001b[0mret\u001b[0m\u001b[0;34m:\u001b[0m\u001b[0;34m\u001b[0m\u001b[0;34m\u001b[0m\u001b[0m\n\u001b[1;32m   1201\u001b[0m             \u001b[0mself\u001b[0m\u001b[0;34m.\u001b[0m\u001b[0mpchanged\u001b[0m\u001b[0;34m(\u001b[0m\u001b[0;34m)\u001b[0m\u001b[0;34m\u001b[0m\u001b[0;34m\u001b[0m\u001b[0m\n",
            "\u001b[0;32m/usr/local/lib/python3.9/dist-packages/matplotlib/axes/_base.py\u001b[0m in \u001b[0;36mwrapper\u001b[0;34m(self, *args, **kwargs)\u001b[0m\n\u001b[1;32m     72\u001b[0m \u001b[0;34m\u001b[0m\u001b[0m\n\u001b[1;32m     73\u001b[0m         \u001b[0;32mdef\u001b[0m \u001b[0mwrapper\u001b[0m\u001b[0;34m(\u001b[0m\u001b[0mself\u001b[0m\u001b[0;34m,\u001b[0m \u001b[0;34m*\u001b[0m\u001b[0margs\u001b[0m\u001b[0;34m,\u001b[0m \u001b[0;34m**\u001b[0m\u001b[0mkwargs\u001b[0m\u001b[0;34m)\u001b[0m\u001b[0;34m:\u001b[0m\u001b[0;34m\u001b[0m\u001b[0;34m\u001b[0m\u001b[0m\n\u001b[0;32m---> 74\u001b[0;31m             \u001b[0;32mreturn\u001b[0m \u001b[0mget_method\u001b[0m\u001b[0;34m(\u001b[0m\u001b[0mself\u001b[0m\u001b[0;34m)\u001b[0m\u001b[0;34m(\u001b[0m\u001b[0;34m*\u001b[0m\u001b[0margs\u001b[0m\u001b[0;34m,\u001b[0m \u001b[0;34m**\u001b[0m\u001b[0mkwargs\u001b[0m\u001b[0;34m)\u001b[0m\u001b[0;34m\u001b[0m\u001b[0;34m\u001b[0m\u001b[0m\n\u001b[0m\u001b[1;32m     75\u001b[0m \u001b[0;34m\u001b[0m\u001b[0m\n\u001b[1;32m     76\u001b[0m         \u001b[0mwrapper\u001b[0m\u001b[0;34m.\u001b[0m\u001b[0m__module__\u001b[0m \u001b[0;34m=\u001b[0m \u001b[0mowner\u001b[0m\u001b[0;34m.\u001b[0m\u001b[0m__module__\u001b[0m\u001b[0;34m\u001b[0m\u001b[0;34m\u001b[0m\u001b[0m\n",
            "\u001b[0;32m/usr/local/lib/python3.9/dist-packages/matplotlib/_api/deprecation.py\u001b[0m in \u001b[0;36mwrapper\u001b[0;34m(*args, **kwargs)\u001b[0m\n\u001b[1;32m    295\u001b[0m                 f\"for the old name will be dropped %(removal)s.\")\n\u001b[1;32m    296\u001b[0m             \u001b[0mkwargs\u001b[0m\u001b[0;34m[\u001b[0m\u001b[0mnew\u001b[0m\u001b[0;34m]\u001b[0m \u001b[0;34m=\u001b[0m \u001b[0mkwargs\u001b[0m\u001b[0;34m.\u001b[0m\u001b[0mpop\u001b[0m\u001b[0;34m(\u001b[0m\u001b[0mold\u001b[0m\u001b[0;34m)\u001b[0m\u001b[0;34m\u001b[0m\u001b[0;34m\u001b[0m\u001b[0m\n\u001b[0;32m--> 297\u001b[0;31m         \u001b[0;32mreturn\u001b[0m \u001b[0mfunc\u001b[0m\u001b[0;34m(\u001b[0m\u001b[0;34m*\u001b[0m\u001b[0margs\u001b[0m\u001b[0;34m,\u001b[0m \u001b[0;34m**\u001b[0m\u001b[0mkwargs\u001b[0m\u001b[0;34m)\u001b[0m\u001b[0;34m\u001b[0m\u001b[0;34m\u001b[0m\u001b[0m\n\u001b[0m\u001b[1;32m    298\u001b[0m \u001b[0;34m\u001b[0m\u001b[0m\n\u001b[1;32m    299\u001b[0m     \u001b[0;31m# wrapper() must keep the same documented signature as func(): if we\u001b[0m\u001b[0;34m\u001b[0m\u001b[0;34m\u001b[0m\u001b[0m\n",
            "\u001b[0;32m/usr/local/lib/python3.9/dist-packages/matplotlib/axis.py\u001b[0m in \u001b[0;36mset_ticklabels\u001b[0;34m(self, labels, minor, fontdict, **kwargs)\u001b[0m\n\u001b[1;32m   1967\u001b[0m             \u001b[0;31m# remove all tick labels, so only error for > 0 labels\u001b[0m\u001b[0;34m\u001b[0m\u001b[0;34m\u001b[0m\u001b[0m\n\u001b[1;32m   1968\u001b[0m             \u001b[0;32mif\u001b[0m \u001b[0mlen\u001b[0m\u001b[0;34m(\u001b[0m\u001b[0mlocator\u001b[0m\u001b[0;34m.\u001b[0m\u001b[0mlocs\u001b[0m\u001b[0;34m)\u001b[0m \u001b[0;34m!=\u001b[0m \u001b[0mlen\u001b[0m\u001b[0;34m(\u001b[0m\u001b[0mlabels\u001b[0m\u001b[0;34m)\u001b[0m \u001b[0;32mand\u001b[0m \u001b[0mlen\u001b[0m\u001b[0;34m(\u001b[0m\u001b[0mlabels\u001b[0m\u001b[0;34m)\u001b[0m \u001b[0;34m!=\u001b[0m \u001b[0;36m0\u001b[0m\u001b[0;34m:\u001b[0m\u001b[0;34m\u001b[0m\u001b[0;34m\u001b[0m\u001b[0m\n\u001b[0;32m-> 1969\u001b[0;31m                 raise ValueError(\n\u001b[0m\u001b[1;32m   1970\u001b[0m                     \u001b[0;34m\"The number of FixedLocator locations\"\u001b[0m\u001b[0;34m\u001b[0m\u001b[0;34m\u001b[0m\u001b[0m\n\u001b[1;32m   1971\u001b[0m                     \u001b[0;34mf\" ({len(locator.locs)}), usually from a call to\"\u001b[0m\u001b[0;34m\u001b[0m\u001b[0;34m\u001b[0m\u001b[0m\n",
            "\u001b[0;31mValueError\u001b[0m: The number of FixedLocator locations (12), usually from a call to set_ticks, does not match the number of labels (2)."
          ]
        },
        {
          "output_type": "display_data",
          "data": {
            "text/plain": [
              "<Figure size 432x288 with 2 Axes>"
            ],
            "image/png": "[encoded data removed]"
          },
          "metadata": {
            "needs_background": "light"
          }
        }
      ],
      "source": [
        "confusion_matrix = metrics.confusion_matrix(actual, predicted)\n",
        "\n",
        "cm_display = metrics.ConfusionMatrixDisplay(confusion_matrix = confusion_matrix, display_labels = [False, True])\n",
        "\n",
        "cm_display.plot()\n",
        "plt.show()"
      ]
    },
    {
      "cell_type": "markdown",
      "metadata": {
        "id": "O59Hjr4aiOBG"
      },
      "source": [
        "# 5. Discussion \n",
        "\n",
        "---\n",
        "\n",
        "### Limitations \n",
        "\n",
        "> blah balh \n",
        "\n",
        "### Future work\n",
        "\n",
        "Some ideas for future work to improve the \n",
        "\n",
        "> Using transfer learning - for example CLIP or ResNet, to improve feature extraction.\n",
        "\n",
        "> Improving model architecture - if I had more time I would have gone back to the start and designed an even deeper model which would have hopefuly learnt better.\n",
        "\n",
        "> Explainability - using methods like LIME or SHAP to get an insight into the model's predictions to show the model is learning features as we would expect.\n",
        "\n",
        "### Self-attention \n",
        "\n",
        "> I tried to improve the Net2 architecture by adding a self-attention aspect. Self-attention will selectively weigh the importance of different feature maps and should improve performance. After some research, I found nn.MultiheadAttention is commonly used to extend CNNs however, my implementation struggled to learn anything useful so I decided not to use it."
      ]
    },
    {
      "cell_type": "code",
      "execution_count": null,
      "metadata": {
        "id": "s3MZ5Hq5iULk"
      },
      "outputs": [],
      "source": [
        "class SelfAttentionCNN(nn.Module):\n",
        "    def __init__(self):\n",
        "        super(SelfAttentionCNN, self).__init__()\n",
        "        \n",
        "        self.conv1 = nn.Conv2d(in_channels=3, out_channels=32, kernel_size=3)\n",
        "        self.bn1 = nn.BatchNorm2d(num_features=32)\n",
        "        self.pool1 = nn.MaxPool2d(kernel_size=2)\n",
        "        \n",
        "        self.conv2 = nn.Conv2d(in_channels=32, out_channels=64, kernel_size=3)\n",
        "        self.bn2 = nn.BatchNorm2d(num_features=64)\n",
        "        self.pool2 = nn.MaxPool2d(kernel_size=2)\n",
        "        \n",
        "        self.conv3 = nn.Conv2d(in_channels=64, out_channels=128, kernel_size=3)\n",
        "        self.bn3 = nn.BatchNorm2d(num_features=128)\n",
        "        self.pool3 = nn.MaxPool2d(kernel_size=2)\n",
        "        \n",
        "        self.attention = nn.MultiheadAttention(embed_dim=128, num_heads=8)\n",
        "        \n",
        "        self.fc1 = nn.Linear(in_features=128, out_features=512)\n",
        "        self.fc2 = nn.Linear(in_features=512, out_features=12)\n",
        "        \n",
        "    def forward(self, x):\n",
        "        x = F.relu(self.bn1(self.conv1(x)))\n",
        "        x = self.pool1(x)\n",
        "        \n",
        "        x = F.relu(self.bn2(self.conv2(x)))\n",
        "        x = self.pool2(x)\n",
        "        \n",
        "        x = F.relu(self.bn3(self.conv3(x)))\n",
        "        x = self.pool3(x)\n",
        "        \n",
        "        x = x.permute(2, 3, 0, 1) \n",
        "        # self-attention\n",
        "        x, _ = self.attention(x, x, x) \n",
        "        x = x.permute(2, 3, 0, 1)\n",
        "        \n",
        "        x = F.avg_pool2d(x, kernel_size=x.size()[2:])\n",
        "        \n",
        "        x = x.view(-1, 128)\n",
        "        \n",
        "        x = F.relu(self.fc1(x))\n",
        "        x = F.dropout(x, p=0.5, training=self.training)\n",
        "        x = self.fc2(x)\n",
        "        \n",
        "        return x\n"
      ]
    }
  ],
  "metadata": {
    "colab": {
      "toc_visible": true,
      "provenance": [],
      "authorship_tag": "ABX9TyMuHaqT06axiXOzRzyvRWx8",
      "include_colab_link": true
    },
    "kernelspec": {
      "display_name": "Python 3",
      "name": "python3"
    },
    "language_info": {
      "name": "python"
    }
  },
  "nbformat": 4,
  "nbformat_minor": 0
}